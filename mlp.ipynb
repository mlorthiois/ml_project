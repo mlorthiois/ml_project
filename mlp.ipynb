{
 "cells": [
  {
   "cell_type": "code",
   "execution_count": 935,
   "id": "0699b8af-6c67-4179-b17f-66eaa8f9dc0c",
   "metadata": {},
   "outputs": [],
   "source": [
    "import numpy as np\n",
    "\n",
    "def sigmoid(x):\n",
    "    return 1/(1+np.exp(-x))\n",
    "\n",
    "def sigmoid_prime(z):\n",
    "    s = sigmoid(z)\n",
    "    return s-s*s\n",
    "\n",
    "def Loss(y, y_pred):\n",
    "    return (y_pred - y) * y_pred * (1 - y_pred)"
   ]
  },
  {
   "cell_type": "code",
   "execution_count": 955,
   "id": "99f82fbd-92f6-453c-b841-d2dc91499af0",
   "metadata": {},
   "outputs": [],
   "source": [
    "w1 = np.array([[ 0.0027,  0.1021],\n",
    "               [ 0.5947, -1.0786],\n",
    "               [ 0.2147,  0.8666]])\n",
    "\n",
    "w2 = np.array([[-0.0700, -0.4209, -0.8642],\n",
    "               [ 0.9634,  0.5741, -0.3815]])\n",
    "\n",
    "b1 = np.array([0., 0., 0.])\n",
    "b2 = np.array([0., 0.])\n",
    "\n",
    "x = np.array([[2, -1]])\n",
    "y = np.array([0, 1])"
   ]
  },
  {
   "cell_type": "code",
   "execution_count": 1029,
   "id": "be268d3e-09c6-47df-9678-56a3bc44cc77",
   "metadata": {},
   "outputs": [
    {
     "name": "stdout",
     "output_type": "stream",
     "text": [
      "Layer: 0 | Shape: (2, 3) | Parameters: 9\n",
      "Layer: 1 | Shape: (3, 2) | Parameters: 8\n"
     ]
    },
    {
     "data": {
      "text/plain": [
       "array([ 0.07214337, -0.06189344])"
      ]
     },
     "execution_count": 1029,
     "metadata": {},
     "output_type": "execute_result"
    }
   ],
   "source": [
    "class Layer:\n",
    "    def __init__(self, size=None, w=None, b=None):\n",
    "        if w is None:\n",
    "            w = np.random.uniform(size=size, low=-1.0, high=1.0)\n",
    "        if b is None:\n",
    "            b = np.zeros(size[1])\n",
    "        self.w = w\n",
    "        self.b = b\n",
    "        \n",
    "    def __call__(self, x):\n",
    "        self.z = x @ self.w.T - self.b\n",
    "        self.a = sigmoid(self.z)\n",
    "        return self.a\n",
    "    \n",
    "    def compute_gradient(self, grad):\n",
    "        self.grad = (grad @ self.w) * self.a * (1 - self.a)\n",
    "    \n",
    "    def backward(self, grad):\n",
    "        self.compute_gradient(grad) \n",
    "        self.w -= self.grad @ self.a\n",
    "        self.b -= np.sum(self.grad.T, axis=-1, keepdims=True)\n",
    "    \n",
    "class MultiLayerPerceptron:\n",
    "    def __init__(self, input_shape=2, shape=(3, 2), layers=None):\n",
    "        if layers is not None:\n",
    "            self.layers = layers\n",
    "        else:\n",
    "            self.layers = [Layer(size=(shape[0], input_shape))]\n",
    "            for i in range(len(shape)-1):\n",
    "                self.layers.append(Layer(size=(shape[i+1], shape[i])))\n",
    "    \n",
    "    def __call__(self, x):\n",
    "        for layer in self.layers:\n",
    "            x = layer(x)\n",
    "        return x\n",
    "    \n",
    "    def backward(self, loss):\n",
    "        self.layers[-1].backward(loss)\n",
    "        for i in range(len(self.layers) - 2, -1, -1):\n",
    "            gradient = self.layers[i].compute_gradient(self.layers[i+1].grad)\n",
    "            self.layers[i].backward(gradient)\n",
    "\n",
    "    def summary(self):\n",
    "        for i, layer in enumerate(self.layers):\n",
    "            print(f\"Layer: {i} | Shape: {layer.w.shape[::-1]} | Parameters: {layer.w.size + layer.b.size}\")\n",
    "            \n",
    "mlp = MultiLayerPerceptron(layers = [Layer(w=w1, b=b1), Layer(w=w2, b=b2)])\n",
    "mlp.summary()\n",
    "y_pred = mlp(x[0])\n",
    "loss = Loss(y, y_pred)\n",
    "loss"
   ]
  },
  {
   "cell_type": "code",
   "execution_count": 1031,
   "id": "bc7e4416-158a-455c-93b2-c9e3c4c3c69e",
   "metadata": {},
   "outputs": [],
   "source": [
    "w = mlp.layers[-1].w\n",
    "a = mlp.layers[-1].a"
   ]
  },
  {
   "cell_type": "code",
   "execution_count": 1033,
   "id": "f486ff3c-2991-4b3f-81cc-0d9dfebbde09",
   "metadata": {},
   "outputs": [
    {
     "ename": "ValueError",
     "evalue": "operands could not be broadcast together with shapes (3,) (2,) ",
     "output_type": "error",
     "traceback": [
      "\u001b[0;31m---------------------------------------------------------------------------\u001b[0m",
      "\u001b[0;31mValueError\u001b[0m                                Traceback (most recent call last)",
      "\u001b[0;32m<ipython-input-1033-0ced086a81fa>\u001b[0m in \u001b[0;36m<module>\u001b[0;34m\u001b[0m\n\u001b[1;32m      1\u001b[0m \u001b[0;31m# (loss @ w) * a * (1 - a)\u001b[0m\u001b[0;34m\u001b[0m\u001b[0;34m\u001b[0m\u001b[0;34m\u001b[0m\u001b[0m\n\u001b[0;32m----> 2\u001b[0;31m \u001b[0;34m(\u001b[0m\u001b[0mloss\u001b[0m \u001b[0;34m@\u001b[0m \u001b[0mw\u001b[0m\u001b[0;34m)\u001b[0m \u001b[0;34m*\u001b[0m \u001b[0;34m(\u001b[0m\u001b[0ma\u001b[0m \u001b[0;34m*\u001b[0m \u001b[0;34m(\u001b[0m\u001b[0;36m1\u001b[0m \u001b[0;34m-\u001b[0m \u001b[0ma\u001b[0m\u001b[0;34m)\u001b[0m\u001b[0;34m)\u001b[0m\u001b[0;34m\u001b[0m\u001b[0;34m\u001b[0m\u001b[0m\n\u001b[0m",
      "\u001b[0;31mValueError\u001b[0m: operands could not be broadcast together with shapes (3,) (2,) "
     ]
    }
   ],
   "source": [
    "# (loss @ w) * a * (1 - a)\n",
    "(loss @ w) * (a * (1 - a))"
   ]
  },
  {
   "cell_type": "code",
   "execution_count": 1002,
   "id": "94fea3c1-dfb7-4303-8664-33ba6aeb34b6",
   "metadata": {},
   "outputs": [
    {
     "data": {
      "text/plain": [
       "array([[-0.00106122, -0.01305624],\n",
       "       [-0.00638096, -0.00778035],\n",
       "       [-0.01310151,  0.00517018]])"
      ]
     },
     "execution_count": 1002,
     "metadata": {},
     "output_type": "execute_result"
    }
   ],
   "source": [
    "mlp.layers[-1].compute_gradient(loss)\n",
    "mlp.layers[-1].grad"
   ]
  },
  {
   "cell_type": "code",
   "execution_count": 950,
   "id": "cb07d8b7-e72d-432d-affe-9369499ee1b9",
   "metadata": {},
   "outputs": [
    {
     "ename": "ValueError",
     "evalue": "operands could not be broadcast together with shapes (2,3) (1,2) ",
     "output_type": "error",
     "traceback": [
      "\u001b[0;31m---------------------------------------------------------------------------\u001b[0m",
      "\u001b[0;31mValueError\u001b[0m                                Traceback (most recent call last)",
      "\u001b[0;32m<ipython-input-950-06e96bee27fc>\u001b[0m in \u001b[0;36m<module>\u001b[0;34m\u001b[0m\n\u001b[0;32m----> 1\u001b[0;31m \u001b[0mw\u001b[0m \u001b[0;34m*\u001b[0m \u001b[0mnp\u001b[0m\u001b[0;34m.\u001b[0m\u001b[0marray\u001b[0m\u001b[0;34m(\u001b[0m\u001b[0;34m[\u001b[0m\u001b[0mloss\u001b[0m\u001b[0;34m]\u001b[0m\u001b[0;34m)\u001b[0m\u001b[0;34m\u001b[0m\u001b[0;34m\u001b[0m\u001b[0m\n\u001b[0m",
      "\u001b[0;31mValueError\u001b[0m: operands could not be broadcast together with shapes (2,3) (1,2) "
     ]
    }
   ],
   "source": [
    "w * np.array([loss])"
   ]
  },
  {
   "cell_type": "code",
   "execution_count": 999,
   "id": "f756e56c-c2d5-40c1-b01b-6098305e1902",
   "metadata": {},
   "outputs": [
    {
     "ename": "ValueError",
     "evalue": "operands could not be broadcast together with shapes (2,3) (2,) ",
     "output_type": "error",
     "traceback": [
      "\u001b[0;31m---------------------------------------------------------------------------\u001b[0m",
      "\u001b[0;31mValueError\u001b[0m                                Traceback (most recent call last)",
      "\u001b[0;32m<ipython-input-999-d74c80760819>\u001b[0m in \u001b[0;36m<module>\u001b[0;34m\u001b[0m\n\u001b[0;32m----> 1\u001b[0;31m \u001b[0mmlp\u001b[0m\u001b[0;34m.\u001b[0m\u001b[0mlayers\u001b[0m\u001b[0;34m[\u001b[0m\u001b[0;34m-\u001b[0m\u001b[0;36m2\u001b[0m\u001b[0;34m]\u001b[0m\u001b[0;34m.\u001b[0m\u001b[0mcompute_gradient\u001b[0m\u001b[0;34m(\u001b[0m\u001b[0mmlp\u001b[0m\u001b[0;34m.\u001b[0m\u001b[0mlayers\u001b[0m\u001b[0;34m[\u001b[0m\u001b[0;34m-\u001b[0m\u001b[0;36m1\u001b[0m\u001b[0;34m]\u001b[0m\u001b[0;34m.\u001b[0m\u001b[0mgrad\u001b[0m\u001b[0;34m)\u001b[0m\u001b[0;34m\u001b[0m\u001b[0;34m\u001b[0m\u001b[0m\n\u001b[0m",
      "\u001b[0;32m<ipython-input-996-6d78dfb45b87>\u001b[0m in \u001b[0;36mcompute_gradient\u001b[0;34m(self, grad)\u001b[0m\n\u001b[1;32m     14\u001b[0m \u001b[0;34m\u001b[0m\u001b[0m\n\u001b[1;32m     15\u001b[0m     \u001b[0;32mdef\u001b[0m \u001b[0mcompute_gradient\u001b[0m\u001b[0;34m(\u001b[0m\u001b[0mself\u001b[0m\u001b[0;34m,\u001b[0m \u001b[0mgrad\u001b[0m\u001b[0;34m)\u001b[0m\u001b[0;34m:\u001b[0m\u001b[0;34m\u001b[0m\u001b[0;34m\u001b[0m\u001b[0m\n\u001b[0;32m---> 16\u001b[0;31m         \u001b[0mself\u001b[0m\u001b[0;34m.\u001b[0m\u001b[0mgrad\u001b[0m \u001b[0;34m=\u001b[0m \u001b[0;34m(\u001b[0m\u001b[0mself\u001b[0m\u001b[0;34m.\u001b[0m\u001b[0mw\u001b[0m\u001b[0;34m.\u001b[0m\u001b[0mT\u001b[0m \u001b[0;34m*\u001b[0m \u001b[0mloss\u001b[0m\u001b[0;34m)\u001b[0m \u001b[0;34m*\u001b[0m \u001b[0mself\u001b[0m\u001b[0;34m.\u001b[0m\u001b[0ma\u001b[0m \u001b[0;34m*\u001b[0m \u001b[0;34m(\u001b[0m\u001b[0;36m1\u001b[0m \u001b[0;34m-\u001b[0m \u001b[0mself\u001b[0m\u001b[0;34m.\u001b[0m\u001b[0ma\u001b[0m\u001b[0;34m)\u001b[0m\u001b[0;34m\u001b[0m\u001b[0;34m\u001b[0m\u001b[0m\n\u001b[0m\u001b[1;32m     17\u001b[0m \u001b[0;34m\u001b[0m\u001b[0m\n\u001b[1;32m     18\u001b[0m     \u001b[0;32mdef\u001b[0m \u001b[0mbackward\u001b[0m\u001b[0;34m(\u001b[0m\u001b[0mself\u001b[0m\u001b[0;34m,\u001b[0m \u001b[0mdelta\u001b[0m\u001b[0;34m)\u001b[0m\u001b[0;34m:\u001b[0m\u001b[0;34m\u001b[0m\u001b[0;34m\u001b[0m\u001b[0m\n",
      "\u001b[0;31mValueError\u001b[0m: operands could not be broadcast together with shapes (2,3) (2,) "
     ]
    }
   ],
   "source": [
    "mlp.layers[-2].compute_gradient(mlp.layers[-1].grad)"
   ]
  },
  {
   "cell_type": "code",
   "execution_count": 625,
   "id": "208052c8-c132-4669-ab58-aa31e7f26b2f",
   "metadata": {},
   "outputs": [
    {
     "data": {
      "text/plain": [
       "array([0.31998417, 0.69613687])"
      ]
     },
     "execution_count": 625,
     "metadata": {},
     "output_type": "execute_result"
    }
   ],
   "source": [
    "mlp = MultiLayerPerceptron(layers=[\n",
    "    Layer(\n",
    "        w = w1,\n",
    "        b = b1\n",
    "    ),\n",
    "    Layer(\n",
    "        w = w2,\n",
    "        b = b2\n",
    "    )\n",
    "])\n",
    "y_pred = mlp(x[0])\n",
    "y_pred\n",
    "# [0.32000038, 0.69612414]"
   ]
  },
  {
   "cell_type": "code",
   "execution_count": 293,
   "id": "9edf83ee-263d-4cf6-8ca3-7103c4385d83",
   "metadata": {},
   "outputs": [],
   "source": [
    "mlp.backward(loss)"
   ]
  },
  {
   "cell_type": "code",
   "execution_count": 277,
   "id": "11a43211-d025-40cd-9cd0-bf2ce1aa65f1",
   "metadata": {},
   "outputs": [
    {
     "data": {
      "text/plain": [
       "array([-0.00158887,  0.00940998, -0.00970491])"
      ]
     },
     "execution_count": 277,
     "metadata": {},
     "output_type": "execute_result"
    }
   ],
   "source": [
    "grad = mlp.layers[0].compute_gradient(mlp.output.gradient)\n",
    "grad"
   ]
  },
  {
   "cell_type": "code",
   "execution_count": 295,
   "id": "1de89a14-be07-4b4c-9c33-3c367a40434d",
   "metadata": {},
   "outputs": [
    {
     "name": "stdout",
     "output_type": "stream",
     "text": [
      "0\n",
      "1\n"
     ]
    }
   ],
   "source": [
    "for i in range(len((2, 3, 2))-1):\n",
    "    print(i)"
   ]
  },
  {
   "cell_type": "code",
   "execution_count": 302,
   "id": "145f2b36-9a6d-46d5-8d92-3f300e346e5f",
   "metadata": {},
   "outputs": [
    {
     "data": {
      "text/plain": [
       "array([[ 0.88603224,  0.55697179, -0.87157397],\n",
       "       [-0.74662932,  0.31392787, -0.61538366]])"
      ]
     },
     "execution_count": 302,
     "metadata": {},
     "output_type": "execute_result"
    }
   ],
   "source": [
    "np.random.uniform(size=(2, 3), low=-1.0, high=1.0)"
   ]
  },
  {
   "cell_type": "code",
   "execution_count": 245,
   "id": "ee4f2603-7ed1-4193-bdff-ab6fa8b5ba84",
   "metadata": {},
   "outputs": [
    {
     "data": {
      "text/plain": [
       "[0]"
      ]
     },
     "execution_count": 245,
     "metadata": {},
     "output_type": "execute_result"
    }
   ],
   "source": [
    "[i for i in range(2-2, -1, -1)]"
   ]
  },
  {
   "cell_type": "code",
   "execution_count": 570,
   "id": "68e09b02-f47e-43d1-a48d-7d072cb6f103",
   "metadata": {},
   "outputs": [],
   "source": [
    "import torch\n",
    "from torch import nn"
   ]
  },
  {
   "cell_type": "code",
   "execution_count": 789,
   "id": "94000ba6-1d32-4ee4-879c-879d7bb509e3",
   "metadata": {},
   "outputs": [
    {
     "name": "stdout",
     "output_type": "stream",
     "text": [
      "Parameter containing:\n",
      "tensor([[-0.0475, -0.3984, -0.8417],\n",
      "        [ 0.9859,  0.5966, -0.3590]], requires_grad=True)\n",
      "Parameter containing:\n",
      "tensor([-0.0054, -0.0054], requires_grad=True)\n",
      "\n",
      "tensor([[0.3275, 0.7034]], grad_fn=<SigmoidBackward0>)\n",
      "\n",
      "tensor([[ 0.3275, -0.2966]], grad_fn=<SubBackward0>)\n",
      "\n",
      "tensor([[0.1048, 0.1996, 0.0864],\n",
      "        [0.0993, 0.1891, 0.0819]])\n"
     ]
    }
   ],
   "source": [
    "d1 = nn.Linear(2, 3)\n",
    "d1.weight = nn.Parameter(torch.from_numpy(w1).float())\n",
    "d1.bias = nn.Parameter(torch.from_numpy(b1).float())\n",
    "\n",
    "d2 = nn.Linear(3, 2)\n",
    "d2.weight = nn.Parameter(torch.from_numpy(w2).float())\n",
    "d2.bias = nn.Parameter(torch.from_numpy(b2).float())\n",
    "\n",
    "print(d2.weight)\n",
    "print(d2.bias)\n",
    "print()\n",
    "\n",
    "model = nn.Sequential(d1, nn.Sigmoid(), d2, nn.Sigmoid())\n",
    "\n",
    "y_pred = model(torch.tensor(x).float())\n",
    "print(y_pred)\n",
    "print()\n",
    "\n",
    "loss = (y_pred - torch.tensor(y).float())\n",
    "print(loss)\n",
    "print()\n",
    "\n",
    "loss = loss.sum()\n",
    "\n",
    "optim = torch.optim.SGD(model.parameters(), lr=1)\n",
    "optim.zero_grad()\n",
    "loss.backward(retain_graph=True)\n",
    "optim.step()\n",
    "\n",
    "print(d2.weight)"
   ]
  },
  {
   "cell_type": "code",
   "execution_count": 793,
   "id": "24c8bbbd-40a8-48d5-a5a3-ad18c2ddd3ec",
   "metadata": {},
   "outputs": [
    {
     "data": {
      "text/plain": [
       "tensor([[0.1048, 0.1996, 0.0864],\n",
       "        [0.0993, 0.1891, 0.0819]])"
      ]
     },
     "execution_count": 793,
     "metadata": {},
     "output_type": "execute_result"
    }
   ],
   "source": [
    "d2.weight.grad"
   ]
  },
  {
   "cell_type": "code",
   "execution_count": 777,
   "id": "ebf713b1-8e26-438c-996d-aab3a6fd7069",
   "metadata": {},
   "outputs": [
    {
     "data": {
      "text/plain": [
       "tensor([[0.3200, 0.6961]], grad_fn=<SigmoidBackward0>)"
      ]
     },
     "execution_count": 777,
     "metadata": {},
     "output_type": "execute_result"
    }
   ],
   "source": [
    "y_pred"
   ]
  },
  {
   "cell_type": "code",
   "execution_count": null,
   "id": "f324d0bc-0755-4608-b9ac-1915c799bff4",
   "metadata": {},
   "outputs": [],
   "source": []
  }
 ],
 "metadata": {
  "kernelspec": {
   "display_name": "Python 3",
   "language": "python",
   "name": "python3"
  },
  "language_info": {
   "codemirror_mode": {
    "name": "ipython",
    "version": 3
   },
   "file_extension": ".py",
   "mimetype": "text/x-python",
   "name": "python",
   "nbconvert_exporter": "python",
   "pygments_lexer": "ipython3",
   "version": "3.8.3"
  }
 },
 "nbformat": 4,
 "nbformat_minor": 5
}
